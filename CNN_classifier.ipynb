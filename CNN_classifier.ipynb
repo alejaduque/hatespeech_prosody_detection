{
 "cells": [
  {
   "cell_type": "code",
   "execution_count": 9,
   "metadata": {},
   "outputs": [],
   "source": [
    "# # Packages \n",
    "\n",
    "import os \n",
    "\n",
    "import torch\n",
    "import torchvision\n",
    "from torchvision import datasets, transforms\n",
    "from torch.utils.data import DataLoader, Dataset\n",
    "import torchvision.transforms as T\n",
    "import torch.nn as nn\n",
    "from torchvision.utils import make_grid\n",
    "from torchvision.utils import save_image\n",
    "from PIL import Image\n",
    "import matplotlib.pyplot as plt\n",
    "import numpy as np\n",
    "import random\n",
    "%matplotlib inline\n",
    "\n",
    "#data, labels and classes \n",
    "classes= ['0','1']\n",
    "data= 'data/spectrograms/'\n",
    "labels='data/labels_extension.txt'\n"
   ]
  },
  {
   "cell_type": "code",
   "execution_count": 8,
   "metadata": {},
   "outputs": [],
   "source": [
    "# # Data loader \n",
    "\n",
    "class SpectrogramDataset(Dataset):\n",
    "    def __init__(self, path_dataset, path_labels):\n",
    "        self.labels= open(path_labels, 'r').read().split('\\n')\n",
    "        self.path_dataset = path_dataset\n",
    "        self.images = os.listdir(path_dataset)\n",
    "    \n",
    "    def __getitem__(self, index):\n",
    "        image_return = np.array(Image(self.path_dataset + self.images[index]))\n",
    "        label= labels[index]\n",
    "        return torch.from_numpy(image), label\n",
    "    \n",
    "    def __len__(self):\n",
    "        return len(self.labels)\n",
    "\n",
    "\n",
    "\n",
    "dataset_s = SpectrogramDataset(data, labels)"
   ]
  }
 ],
 "metadata": {
  "kernelspec": {
   "display_name": "env",
   "language": "python",
   "name": "python3"
  },
  "language_info": {
   "codemirror_mode": {
    "name": "ipython",
    "version": 3
   },
   "file_extension": ".py",
   "mimetype": "text/x-python",
   "name": "python",
   "nbconvert_exporter": "python",
   "pygments_lexer": "ipython3",
   "version": "3.9.0"
  }
 },
 "nbformat": 4,
 "nbformat_minor": 2
}
