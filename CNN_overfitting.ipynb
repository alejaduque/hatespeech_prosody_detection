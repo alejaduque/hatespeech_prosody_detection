{
 "cells": [
  {
   "cell_type": "code",
   "execution_count": 1,
   "metadata": {
    "id": "_ONuIbs4FG0d"
   },
   "outputs": [],
   "source": [
    "# # Packages\n",
    "\n",
    "import os\n",
    "import random\n",
    "from tqdm.notebook import tqdm\n",
    "import pandas as pd\n",
    "\n",
    "import torch\n",
    "import torchvision\n",
    "from torchvision import datasets, transforms, models\n",
    "from torch.utils.data import DataLoader, Dataset\n",
    "import torchvision.transforms as T\n",
    "import torch.nn as nn\n",
    "from torchsummary import summary\n",
    "from torchvision.utils import save_image\n",
    "import torch.nn.functional as F\n",
    "\n",
    "\n",
    "from PIL import Image\n",
    "from PIL import ImageFile\n",
    "import matplotlib.pyplot as plt\n",
    "import numpy as np\n",
    "import random\n",
    "ImageFile.LOAD_TRUNCATED_IMAGES = True\n",
    "%matplotlib inline\n",
    "import sklearn\n",
    "from sklearn.metrics import confusion_matrix\n",
    "\n",
    "#data, labels and classes\n",
    "data= 'spectrograms/' #Change PATH as needed\n",
    "labels='labels_extension.txt'\n",
    "device = 'cuda'\n",
    "\n",
    "data_content= os.listdir(data) #list of names of files for images"
   ]
  },
  {
   "cell_type": "code",
   "execution_count": 2,
   "metadata": {
    "id": "_Uu_-mldFG0g"
   },
   "outputs": [],
   "source": [
    "class SpectrogramDataset(Dataset):\n",
    "    def __init__(self, path_dataset, path_labels):\n",
    "        self.labels = open(path_labels, 'r').read().split('\\n')\n",
    "        self.path_dataset = path_dataset\n",
    "        self.images = os.listdir(path_dataset)\n",
    "\n",
    "    def __getitem__(self, index):\n",
    "        image_return = np.array(Image.open(os.path.join(self.path_dataset, self.images[index])))\n",
    "        label = self.labels[index]\n",
    "        return torch.tensor(image_return), torch.tensor(float(int(label))).type(dtype=torch.int)\n",
    "\n",
    "    def __len__(self):\n",
    "        return len(self.labels)\n"
   ]
  },
  {
   "cell_type": "code",
   "execution_count": 3,
   "metadata": {
    "id": "5ac7LliRFG0h"
   },
   "outputs": [],
   "source": [
    "#Define the model (RestNet18)\n",
    "\n",
    "def get_model(pu):\n",
    "    model = models.resnet152(weights=None)\n",
    "    for param in model.parameters():\n",
    "        param.requires_grad = False\n",
    "    model.avgpool = nn.AdaptiveAvgPool2d(output_size=(1,1))\n",
    "    model.fc = nn.Sequential(nn.Flatten(),\n",
    "    nn.Linear(2048, 128),\n",
    "    nn.Tanh(),\n",
    "    nn.Dropout(0.2),\n",
    "    nn.Linear(128, 1),\n",
    "    nn.Sigmoid())\n",
    "    loss_fn = nn.BCELoss()\n",
    "    optimizer = torch.optim.Adam(model.parameters(), lr= 1e-5)\n",
    "    return model.to(pu), loss_fn, optimizer"
   ]
  },
  {
   "cell_type": "code",
   "execution_count": 4,
   "metadata": {
    "colab": {
     "base_uri": "https://localhost:8080/",
     "height": 480
    },
    "id": "OQCyFO0dFG0h",
    "outputId": "dc38f228-1ea4-4f5a-a0a3-308db6591f33"
   },
   "outputs": [],
   "source": [
    "#Loads the model\n",
    "\n",
    "model, loss_fn, optimizer = get_model(device)\n",
    "#summary(model, torch.zeros(1,3,224,224))"
   ]
  },
  {
   "cell_type": "code",
   "execution_count": 5,
   "metadata": {
    "id": "pbWStI7MFG0i"
   },
   "outputs": [],
   "source": [
    "#Defining training and predecting functions\n",
    "\n",
    "def train_batch(x, y, model, opt, loss_fn):\n",
    "    model.train()\n",
    "    prediction = model(x).type(dtype=torch.float)\n",
    "    batch_loss = loss_fn(prediction, y)\n",
    "    batch_loss.backward()\n",
    "    opt.step()\n",
    "    opt.zero_grad()\n",
    "    return batch_loss.item()\n",
    "\n",
    "@torch.no_grad()\n",
    "def accuracy(x, y, model):\n",
    "    model.eval()\n",
    "    prediction = model(x)\n",
    "    is_correct = (prediction > 0.5) == y\n",
    "    return is_correct.cpu().numpy().tolist()"
   ]
  },
  {
   "cell_type": "code",
   "execution_count": 6,
   "metadata": {
    "id": "mKOjhAq-FG0j"
   },
   "outputs": [],
   "source": [
    "dataset_s = SpectrogramDataset(data, labels)\n",
    "\n",
    "all_indexes= np.array(range(len(dataset_s)))\n",
    "random.seed(42)\n",
    "random.shuffle(all_indexes)\n",
    "n1 = int(0.8*len(all_indexes))\n",
    "n2 = int(0.9*len(all_indexes))\n",
    "\n",
    "indices_train = all_indexes[:n1]\n",
    "indices_val = all_indexes[n1:n2]\n",
    "indices_test = all_indexes[n2:]"
   ]
  },
  {
   "cell_type": "code",
   "execution_count": 7,
   "metadata": {},
   "outputs": [],
   "source": [
    "#Saves checkpoints\n",
    "def save_checkpoint(state, is_best, path, prefix, loss, filename='checkpoint.pth.tar', csvname = 'checkpoints/loss_train.csv'):\n",
    "    prefix_save = os.path.join(path, prefix)\n",
    "    name = prefix_save + '_' + filename\n",
    "    torch.save(state, name)\n",
    "    if is_best:\n",
    "        shutil.copyfile(name, prefix_save + '_model_best.pth.tar')\n",
    "    loss.to_csv(csvname)\n"
   ]
  },
  {
   "cell_type": "code",
   "execution_count": 8,
   "metadata": {},
   "outputs": [
    {
     "data": {
      "application/vnd.jupyter.widget-view+json": {
       "model_id": "bca1bdd195f8419f8d459a1cbb306b27",
       "version_major": 2,
       "version_minor": 0
      },
      "text/plain": [
       "  0%|          | 0/100 [00:00<?, ?it/s]"
      ]
     },
     "metadata": {},
     "output_type": "display_data"
    },
    {
     "name": "stderr",
     "output_type": "stream",
     "text": [
      "/home/aduque/.conda/envs/prosodyenv/lib/python3.10/site-packages/torch/nn/modules/conv.py:456: UserWarning: Plan failed with a cudnnException: CUDNN_BACKEND_EXECUTION_PLAN_DESCRIPTOR: cudnnFinalize Descriptor Failed cudnn_status: CUDNN_STATUS_NOT_SUPPORTED (Triggered internally at ../aten/src/ATen/native/cudnn/Conv_v8.cpp:919.)\n",
      "  return F.conv2d(input, weight, bias, self.stride,\n"
     ]
    },
    {
     "data": {
      "image/png": "[encoded data removed]",
      "text/plain": [
       "<Figure size 640x480 with 1 Axes>"
      ]
     },
     "metadata": {},
     "output_type": "display_data"
    }
   ],
   "source": [
    "#Overfitting\n",
    "\n",
    "random.seed(42)\n",
    "dataset_s = SpectrogramDataset(data, labels)\n",
    "\n",
    "loss_train = []\n",
    "for i in tqdm(range(100)):\n",
    "    all_indexes = np.array(range(len(dataset_s)))\n",
    "    random.shuffle(all_indexes)\n",
    "    for index in all_indexes:\n",
    "        X, y= dataset_s[index]\n",
    "        X= X.permute(2,0,1).float().unsqueeze(0).to(device)\n",
    "        y= y.unsqueeze(0).unsqueeze(0).type(dtype=torch.float).to(device)\n",
    "        loss= train_batch(X, y, model, optimizer, loss_fn)\n",
    "        loss_train.append(loss)\n",
    "\n",
    "plt.semilogy(loss_train)\n",
    "plt.show()\n",
    "iters_opt = torch.argmin(torch.tensor(loss_train))/len(dataset_s)\n"
   ]
  },
  {
   "cell_type": "code",
   "execution_count": 9,
   "metadata": {},
   "outputs": [
    {
     "name": "stdout",
     "output_type": "stream",
     "text": [
      "These are the optimal iterations88.11644744873047\n"
     ]
    }
   ],
   "source": [
    "print(f'These are the optimal iterations{iters_opt}')"
   ]
  },
  {
   "cell_type": "code",
   "execution_count": 10,
   "metadata": {},
   "outputs": [
    {
     "data": {
      "application/vnd.jupyter.widget-view+json": {
       "model_id": "73af8197cc624bb0bba4b57c5888efbd",
       "version_major": 2,
       "version_minor": 0
      },
      "text/plain": [
       "  0%|          | 0/88 [00:00<?, ?it/s]"
      ]
     },
     "metadata": {},
     "output_type": "display_data"
    }
   ],
   "source": [
    "#Training with optimal iterations \n",
    "random.seed(42)\n",
    "dataset_s = SpectrogramDataset(data, labels)\n",
    "\n",
    "loss_train = []\n",
    "for i in tqdm(range(int(iters_opt))):\n",
    "    all_indexes = np.array(range(len(dataset_s)))\n",
    "    random.shuffle(all_indexes)\n",
    "    for index in all_indexes:\n",
    "        X, y= dataset_s[index]\n",
    "        X= X.permute(2,0,1).float().unsqueeze(0).to(device)\n",
    "        y= y.unsqueeze(0).unsqueeze(0).type(dtype=torch.float).to(device)\n",
    "        loss= train_batch(X, y, model, optimizer, loss_fn)\n",
    "        loss_train.append(loss)"
   ]
  },
  {
   "cell_type": "code",
   "execution_count": 11,
   "metadata": {},
   "outputs": [
    {
     "name": "stderr",
     "output_type": "stream",
     "text": [
      "/tmp/ipykernel_296364/90318055.py:14: DeprecationWarning: Conversion of an array with ndim > 0 to a scalar is deprecated, and will error in future. Ensure you extract a single element from your array before performing this operation. (Deprecated NumPy 1.25.)\n",
      "  predictions.append(int((prediction > 0.5).cpu().numpy()))\n"
     ]
    }
   ],
   "source": [
    "# Evaluating on TRAINING\n",
    "import sklearn\n",
    "from sklearn.metrics import confusion_matrix\n",
    "all_indexes= np.array(range(len(dataset_s)))\n",
    "\n",
    "model.eval()\n",
    "predictions = []\n",
    "actuals = []\n",
    "for i in all_indexes:\n",
    "    X, y= dataset_s[i]\n",
    "    X = X.permute(2, 0, 1).float().unsqueeze(0).to(device)\n",
    "    y = y.unsqueeze(0).unsqueeze(0).type(dtype=torch.float).to(device)\n",
    "    prediction = model(X)\n",
    "    predictions.append(int((prediction > 0.5).cpu().numpy()))\n",
    "    actuals.append(y.cpu().numpy())\n",
    "\n",
    "# Flatten the lists\n",
    "predictions = np.asarray(predictions).flatten()\n",
    "\n",
    "actuals = np.asarray(actuals).flatten()\n",
    "\n",
    "# Compute confusion matrix\n",
    "cm = confusion_matrix(actuals, predictions)\n",
    "\n",
    "\n",
    "# Plot confusion matrix\n",
    "#plt.figure(figsize=(8, 6))\n",
    "#sns.heatmap(conf_matrix, annot=True, fmt=\"d\", cmap=\"Blues\", xticklabels=[0, 1], yticklabels=[0, 1])\n",
    "#plt.xlabel('Predicted')\n",
    "#plt.ylabel('Actual')\n",
    "#plt.title('Confusion Matrix')\n",
    "#plt.show()"
   ]
  },
  {
   "cell_type": "code",
   "execution_count": 13,
   "metadata": {},
   "outputs": [
    {
     "name": "stdout",
     "output_type": "stream",
     "text": [
      "Recall: 0.0\n",
      "Precision 0.5397412199630314\n"
     ]
    },
    {
     "data": {
      "text/plain": [
       "array([[292,   0],\n",
       "       [249,   0]])"
      ]
     },
     "execution_count": 13,
     "metadata": {},
     "output_type": "execute_result"
    }
   ],
   "source": [
    "#View metrics\n",
    "tn, fp, fn, tp = confusion_matrix(actuals, predictions).ravel()\n",
    "recall = float(tp) / (tp + fn)\n",
    "precision= float(tp + tn) / (tp + fn + fp + tn)\n",
    "\n",
    "print('Recall: {}'.format(recall)) \n",
    "print('Precision {}'.format(precision))\n",
    "cm"
   ]
  },
  {
   "cell_type": "code",
   "execution_count": 20,
   "metadata": {},
   "outputs": [],
   "source": [
    "#saving results \n",
    "import pandas as pd\n",
    "results= {\"pred\": predictions, \"actual\": actuals}\n",
    "data= pd.DataFrame(data=results)\n",
    "data.to_csv(\"predictions_overfitting.csv\")\n"
   ]
  },
  {
   "cell_type": "code",
   "execution_count": null,
   "metadata": {},
   "outputs": [],
   "source": [
    "#Training of CNN\n",
    "\n",
    "loss_train = []\n",
    "loss_val =[]\n",
    "for i in tqdm(range(1000)):\n",
    "    for index in indices_train:\n",
    "        X, y= dataset_s[index]\n",
    "        X= X.permute(2,0,1).float().unsqueeze(0).to(device)\n",
    "        y= y.unsqueeze(0).unsqueeze(0).type(dtype=torch.float).to(device)\n",
    "        loss= train_batch(X, y, model, optimizer, loss_fn)\n",
    "        loss_train.append(loss)\n",
    "\n",
    "    for val_index in indices_val:\n",
    "        X, y= dataset_s[val_index]\n",
    "        X= X.permute(2,0,1).float().unsqueeze(0).to(device)\n",
    "        y= y.unsqueeze(0).unsqueeze(0).type(dtype=torch.float).to(device)\n",
    "        loss= train_batch(X, y, model, optimizer, loss_fn)\n",
    "        loss_val.append(loss)\n",
    "\n",
    "plt.semilogy(loss_train)\n",
    "plt.semilogy(loss_val)\n",
    "plt.show()\n",
    "iters_opt = torch.argmin(torch.tensor(loss_val))\n"
   ]
  }
 ],
 "metadata": {
  "accelerator": "GPU",
  "colab": {
   "gpuType": "T4",
   "provenance": []
  },
  "kernelspec": {
   "display_name": "Python 3 (ipykernel)",
   "language": "python",
   "name": "python3"
  },
  "language_info": {
   "codemirror_mode": {
    "name": "ipython",
    "version": 3
   },
   "file_extension": ".py",
   "mimetype": "text/x-python",
   "name": "python",
   "nbconvert_exporter": "python",
   "pygments_lexer": "ipython3",
   "version": "3.10.14"
  }
 },
 "nbformat": 4,
 "nbformat_minor": 4
}
