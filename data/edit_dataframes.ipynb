{
 "cells": [
  {
   "cell_type": "code",
   "execution_count": 7,
   "metadata": {},
   "outputs": [],
   "source": [
    "import pandas as pd\n",
    "import numpy as np \n",
    "\n",
    "# Function to perform one-hot encoding\n",
    "def encode(label):\n",
    "    if 'non-hate' in label:\n",
    "        return 0\n",
    "    elif 'hate' in label:\n",
    "        return 1\n"
   ]
  },
  {
   "cell_type": "code",
   "execution_count": 9,
   "metadata": {},
   "outputs": [],
   "source": [
    "# Defining labels \n",
    "\n",
    "df_original= pd.read_csv('datasets/data_spanish_dataset.csv') #dataset of first sampling\n",
    "\n",
    "# Encoding categorical variables. Not hate speech = 0. Hate speech = 1. \n",
    "df_original['label'] = df_original['label'].apply(lambda x: encode(x))\n",
    "\n",
    "#Storing labels in array \n",
    "labels= df_original['label'].values\n",
    "import numpy as np\n",
    "\n",
    "# Labels for samples of the extension\n",
    "\n",
    "# Create array with 243 zeros\n",
    "nhs_labels = np.zeros(243, dtype=int)\n",
    "\n",
    "# Create 198 ones. \n",
    "hs_labels = np.ones(198, dtype=int)"
   ]
  },
  {
   "cell_type": "code",
   "execution_count": 13,
   "metadata": {},
   "outputs": [
    {
     "name": "stdout",
     "output_type": "stream",
     "text": [
      "Labels have been saved to labels_extension.txt\n"
     ]
    }
   ],
   "source": [
    "all_labels= np.concatenate((labels, nhs_labels, hs_labels))\n",
    "np.savetxt('labels_extension.txt', all_labels, fmt='%d')\n",
    "print(\"Labels have been saved to labels_extension.txt\")\n"
   ]
  }
 ],
 "metadata": {
  "kernelspec": {
   "display_name": "Python 3",
   "language": "python",
   "name": "python3"
  },
  "language_info": {
   "codemirror_mode": {
    "name": "ipython",
    "version": 3
   },
   "file_extension": ".py",
   "mimetype": "text/x-python",
   "name": "python",
   "nbconvert_exporter": "python",
   "pygments_lexer": "ipython3",
   "version": "3.9.0"
  }
 },
 "nbformat": 4,
 "nbformat_minor": 2
}
