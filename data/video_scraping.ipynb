{
  "cells": [
    {
      "cell_type": "code",
      "execution_count": 1,
      "metadata": {
        "colab": {
          "base_uri": "https://localhost:8080/"
        },
        "id": "qbb66aYzkzSb",
        "outputId": "618574dd-8090-47b9-8b36-734c62cc771c"
      },
      "outputs": [],
      "source": [
        "#Run this first to download and import packages\n",
        "\n",
        "from pytube import YouTube #for retrieving youtube objects\n",
        "from pytube import Search #for making searchs of videos or playlist\n",
        "from pytube import Playlist #for retrieving playlist\n",
        "import pandas as pd #for dataframes\n",
        "from tqdm import tqdm #for visualizing data processing"
      ]
    },
    {
      "cell_type": "code",
      "execution_count": 10,
      "metadata": {},
      "outputs": [],
      "source": [
        "import os\n",
        "from pytube import Playlist, YouTube\n",
        "from tqdm import tqdm\n",
        "import pandas as pd\n",
        "\n",
        "\n",
        "# Function to get videos from a playlist\n",
        "def get_playlist(variable_with_playlist, output_path, label, start_index=100):\n",
        "    # Retrieve URL of videos from playlist\n",
        "    p = Playlist(variable_with_playlist)\n",
        "\n",
        "    # Lists for storing information\n",
        "    titles, lengths, views, video_urls = [], [], [], []\n",
        "\n",
        "    # Lists for storing information of failed videos\n",
        "    titles_f, lengths_f, views_f, video_urls_f = [], [], [], []\n",
        "\n",
        "    # Iterate over the playlist URLs starting from the specified index\n",
        "    for idx, url in enumerate(tqdm(p.video_urls), start=start_index):\n",
        "        try:\n",
        "            yt = YouTube(url)\n",
        "\n",
        "            # For downloading with index as filename\n",
        "            video = yt.streams.get_highest_resolution()\n",
        "            video.download(output_path, filename=f\"{idx}.mp4\")\n",
        "\n",
        "            # Extract information from video\n",
        "            title = yt.title\n",
        "            desc = yt.description\n",
        "            length = yt.length\n",
        "            view = yt.views\n",
        "\n",
        "            # Append information to lists\n",
        "            titles.append(title)\n",
        "            views.append(view)\n",
        "            video_urls.append(url)\n",
        "            lengths.append(length)\n",
        "\n",
        "        except Exception as e:\n",
        "            print(f\"Failed to download video: {url}, Error: {e}\")\n",
        "\n",
        "            yt = YouTube(url)\n",
        "\n",
        "            # Extract information from video\n",
        "            title = yt.title\n",
        "            #desc = yt.description\n",
        "            length = yt.length\n",
        "            view = yt.views\n",
        "\n",
        "            # Append information to lists\n",
        "            titles_f.append(title)\n",
        "            views_f.append(view)\n",
        "            video_urls_f.append(url)\n",
        "            lengths_f.append(length)\n",
        "\n",
        "    # Create DataFrame for successful downloads\n",
        "    data = {'title': titles, 'length': lengths, 'views': views, 'url': video_urls}\n",
        "    df = pd.DataFrame(data)\n",
        "    df['label'] = label\n",
        "    df.to_csv(os.path.join(output_path, 'success.csv'))  # Save DataFrame to specified path\n",
        "\n",
        "    # Create DataFrame for failed downloads\n",
        "    data_failed = {'title': titles_f, 'length': lengths_f, 'views': views_f, 'url': video_urls_f}\n",
        "    df_failed = pd.DataFrame(data_failed)\n",
        "    df_failed.to_csv(os.path.join(output_path, 'failed.csv'))\n",
        "\n",
        "    return df\n",
        "\n",
        "\n",
        "\n",
        "\n"
      ]
    },
    {
      "cell_type": "code",
      "execution_count": null,
      "metadata": {
        "colab": {
          "base_uri": "https://localhost:8080/",
          "height": 192
        },
        "id": "AIptQRabnj3O",
        "outputId": "c6c478aa-d277-457f-efc0-241d4ca3199d"
      },
      "outputs": [],
      "source": [
        "# Non-hate extension dataset.\n",
        "playlist_url = \"https://www.youtube.com/playlist?list=PLh0970rfsSfHrs4HjmuUwK6OxFFv8BAWv\"\n",
        "output_path = \"extension\"\n",
        "get_playlist(playlist_url, output_path, 0, start_index=100)\n"
      ]
    },
    {
      "cell_type": "code",
      "execution_count": null,
      "metadata": {},
      "outputs": [],
      "source": [
        "#Hate speech extension\n",
        "\n",
        "playlist_url=\"https://www.youtube.com/playlist?list=PLh0970rfsSfEljdgUjiO1f8pdU47rKeP_\"\n",
        "output_path = \"hs_extension\"\n",
        "get_playlist(playlist_url, output_path) "
      ]
    },
    {
      "cell_type": "code",
      "execution_count": 9,
      "metadata": {},
      "outputs": [
        {
          "name": "stderr",
          "output_type": "stream",
          "text": [
            "100%|██████████| 2/2 [00:24<00:00, 12.16s/it]\n"
          ]
        },
        {
          "data": {
            "text/html": [
              "<div>\n",
              "<style scoped>\n",
              "    .dataframe tbody tr th:only-of-type {\n",
              "        vertical-align: middle;\n",
              "    }\n",
              "\n",
              "    .dataframe tbody tr th {\n",
              "        vertical-align: top;\n",
              "    }\n",
              "\n",
              "    .dataframe thead th {\n",
              "        text-align: right;\n",
              "    }\n",
              "</style>\n",
              "<table border=\"1\" class=\"dataframe\">\n",
              "  <thead>\n",
              "    <tr style=\"text-align: right;\">\n",
              "      <th></th>\n",
              "      <th>title</th>\n",
              "      <th>description</th>\n",
              "      <th>length</th>\n",
              "      <th>views</th>\n",
              "      <th>url</th>\n",
              "    </tr>\n",
              "  </thead>\n",
              "  <tbody>\n",
              "    <tr>\n",
              "      <th>0</th>\n",
              "      <td>Término Feminazi ▪︎</td>\n",
              "      <td>En este vídeo intento explicar el término femi...</td>\n",
              "      <td>111</td>\n",
              "      <td>17</td>\n",
              "      <td>https://www.youtube.com/watch?v=-1IOCpxE_TQ</td>\n",
              "    </tr>\n",
              "    <tr>\n",
              "      <th>1</th>\n",
              "      <td>\"Pretenden que el hombre las lea la mente \"#fe...</td>\n",
              "      <td></td>\n",
              "      <td>33</td>\n",
              "      <td>243771</td>\n",
              "      <td>https://www.youtube.com/watch?v=OZ0f0bU7Oko</td>\n",
              "    </tr>\n",
              "  </tbody>\n",
              "</table>\n",
              "</div>"
            ],
            "text/plain": [
              "                                               title  \\\n",
              "0                                Término Feminazi ▪︎   \n",
              "1  \"Pretenden que el hombre las lea la mente \"#fe...   \n",
              "\n",
              "                                         description  length   views  \\\n",
              "0  En este vídeo intento explicar el término femi...     111      17   \n",
              "1                                                         33  243771   \n",
              "\n",
              "                                           url  \n",
              "0  https://www.youtube.com/watch?v=-1IOCpxE_TQ  \n",
              "1  https://www.youtube.com/watch?v=OZ0f0bU7Oko  "
            ]
          },
          "execution_count": 9,
          "metadata": {},
          "output_type": "execute_result"
        }
      ],
      "source": [
        "#failed videos\n",
        "\n",
        "playlist_url = \"https://www.youtube.com/watch?v=-1IOCpxE_TQ&list=PLh0970rfsSfHrs4HjmuUwK6OxFFv8BAWv\"\n",
        "output_path = \"spanish_dataset\"\n",
        "get_playlist(playlist_url, output_path) "
      ]
    }
  ],
  "metadata": {
    "colab": {
      "provenance": []
    },
    "kernelspec": {
      "display_name": "Python 3",
      "name": "python3"
    },
    "language_info": {
      "codemirror_mode": {
        "name": "ipython",
        "version": 3
      },
      "file_extension": ".py",
      "mimetype": "text/x-python",
      "name": "python",
      "nbconvert_exporter": "python",
      "pygments_lexer": "ipython3",
      "version": "3.9.0"
    }
  },
  "nbformat": 4,
  "nbformat_minor": 0
}
