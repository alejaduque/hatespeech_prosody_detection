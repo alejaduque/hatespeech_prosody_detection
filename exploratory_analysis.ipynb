{
 "cells": [
  {
   "cell_type": "code",
   "execution_count": 1,
   "metadata": {},
   "outputs": [],
   "source": [
    "import os\n",
    "import time\n",
    "\n",
    "import numpy as np\n",
    "import pandas as pd\n",
    "import audb\n",
    "import audiofile\n",
    "from scipy.io.wavfile import read as read_wav\n",
    "from matplotlib import pyplot as plt\n",
    "import opensmile\n",
    "\n",
    "import sklearn \n",
    "from sklearn.model_selection import train_test_split #train/test split \n",
    "from sklearn.svm import SVC #Model\n",
    "from sklearn.metrics import confusion_matrix #Metrics \n",
    "from sklearn.metrics import f1_score \n",
    "from sklearn.model_selection import cross_val_score #Cross-validation\n",
    "from sklearn.model_selection import KFold\n",
    "\n",
    "import scipy\n",
    "import random #for shuffling values \n",
    "from scipy import stats\n",
    "\n",
    "#List of prosodic features we will observe\n",
    "features_prosody= ['F0semitoneFrom27.5Hz_sma3nz_amean','loudness_sma3_amean',\n",
    "'mfcc1_sma3_amean',\n",
    "'jitterLocal_sma3nz_amean',\n",
    "'shimmerLocaldB_sma3nz_amean',\n",
    "'hammarbergIndexV_sma3nz_amean']\n",
    "\n",
    "# Function to perform one-hot encoding\n",
    "def encode(label):\n",
    "    if 'non-hate' in label:\n",
    "        return 0\n",
    "    elif 'hate' in label:\n",
    "        return 1\n",
    "\n",
    "#Gets functional features of all audios \n",
    "def functional_features(list_with_files):\n",
    "    path= \"data/clean_audio1/\"\n",
    "    \n",
    "    #  Define feature extractor\n",
    "    smile = opensmile.Smile(\n",
    "    feature_set=opensmile.FeatureSet.eGeMAPSv02,\n",
    "    feature_level=opensmile.FeatureLevel.Functionals,)\n",
    "\n",
    "    df_data= []\n",
    "\n",
    "    for i in list_with_files:\n",
    "        f= path + i\n",
    "        sampling_rate, data = read_wav(f) #gets sampling rate and dimensions of data\n",
    "        #print(f\"Sampling rate of {f}:{sampling_rate}\")\n",
    "        \n",
    "        db = audb.load('emodb',\n",
    "        version='1.1.1',\n",
    "        format='wav',\n",
    "        mixdown=True,\n",
    "        sampling_rate=sampling_rate,\n",
    "        media='wav/03a01.*',  # load subset\n",
    "        full_path=False,\n",
    "        verbose=False,)\n",
    "\n",
    "        #extract features\n",
    "        signal, sampling_rate = audiofile.read(f, duration=120, always_2d=True)\n",
    "        data= smile.process_signal(signal, sampling_rate)\n",
    "        df_data.append(data.loc[:,features_prosody])\n",
    "\n",
    "    df= pd.concat(df_data, ignore_index=True)\n",
    "    return df\n",
    "        \n",
    "def t_test(dataframe):\n",
    "    for i in features_prosody:\n",
    "        class_0= dataframe[i][dataframe['label']==0].values\n",
    "        class_1= dataframe[i][dataframe['label']== 1].values \n",
    "        t_statistic, p_value = stats.ttest_ind(class_0, class_1)\n",
    "        print(f\"T-statistic {i}:\", t_statistic)\n",
    "        print(f\"P-value {i}:\", p_value)\n",
    "    "
   ]
  },
  {
   "cell_type": "code",
   "execution_count": 2,
   "metadata": {},
   "outputs": [],
   "source": [
    "df=pd.read_csv(\"D:/CCiL/TFM/model/data/data_spanish_dataset.csv\")\n",
    "\n",
    "# Encoding categorical variables. Not hate speech = 0. Hate speech = 1. \n",
    "df['label'] = df['label'].apply(lambda x: encode(x))\n",
    "\n",
    "#Storing labels in array \n",
    "labels= df['label'].values"
   ]
  },
  {
   "cell_type": "code",
   "execution_count": 3,
   "metadata": {},
   "outputs": [],
   "source": [
    "#process wav files \n",
    "path=\"data/clean_audio1\"\n",
    "dir_list = os.listdir(path)\n",
    "feature_data= functional_features(dir_list)\n",
    "\n",
    "#Labels data \n",
    "feature_data[\"label\"]=labels\n",
    "df= feature_data\n"
   ]
  },
  {
   "cell_type": "code",
   "execution_count": 4,
   "metadata": {},
   "outputs": [
    {
     "name": "stdout",
     "output_type": "stream",
     "text": [
      "T-statistic F0semitoneFrom27.5Hz_sma3nz_amean: 2.2487934773623564\n",
      "P-value F0semitoneFrom27.5Hz_sma3nz_amean: 0.026764685823525612\n",
      "T-statistic loudness_sma3_amean: -2.9324582955450342\n",
      "P-value loudness_sma3_amean: 0.004186531896733063\n",
      "T-statistic mfcc1_sma3_amean: 2.0907844943307077\n",
      "P-value mfcc1_sma3_amean: 0.039134807280088044\n",
      "T-statistic jitterLocal_sma3nz_amean: -1.1565093128645185\n",
      "P-value jitterLocal_sma3nz_amean: 0.2502843380505851\n",
      "T-statistic shimmerLocaldB_sma3nz_amean: -3.0798712117624505\n",
      "P-value shimmerLocaldB_sma3nz_amean: 0.002687346355337155\n",
      "T-statistic hammarbergIndexV_sma3nz_amean: 4.132627428485812\n",
      "P-value hammarbergIndexV_sma3nz_amean: 7.563214277725204e-05\n"
     ]
    }
   ],
   "source": [
    "#Performs t-test \n",
    "t_test(df)"
   ]
  },
  {
   "cell_type": "code",
   "execution_count": 5,
   "metadata": {},
   "outputs": [],
   "source": [
    "#Train/Test split \n",
    "y_axis= df.iloc[:,[-1]]\n",
    "y= y_axis.to_numpy().flatten() #Labels (class 0 and 1)\n",
    "X_axis= df.drop(y_axis.columns,axis = 1)\n",
    "X= X_axis.values\n",
    "X_train, X_test, y_train, y_test = train_test_split(X, y, test_size=0.2)\n",
    "X_train, X_val, y_train, y_val = train_test_split(X_train, y_train, test_size=0.2)"
   ]
  },
  {
   "cell_type": "code",
   "execution_count": 6,
   "metadata": {},
   "outputs": [
    {
     "data": {
      "text/plain": [
       "array([[6, 4],\n",
       "       [4, 6]], dtype=int64)"
      ]
     },
     "execution_count": 6,
     "metadata": {},
     "output_type": "execute_result"
    }
   ],
   "source": [
    "svc= SVC(kernel='rbf', class_weight='balanced', C=1, gamma=1e-3)\n",
    "svc.fit(X_train, y_train)\n",
    "y_pred = svc.predict(X_test)\n",
    "confusion_matrix(y_test, y_pred)\n"
   ]
  },
  {
   "cell_type": "code",
   "execution_count": 7,
   "metadata": {},
   "outputs": [
    {
     "name": "stdout",
     "output_type": "stream",
     "text": [
      "Max. recall:0.625\n",
      "Optimal C: 0.6210526315789474\n",
      "Optimal gamma:0.002335721469090121\n"
     ]
    }
   ],
   "source": [
    "#Cross-validation recall\n",
    "\n",
    "C_list= np.linspace(0.1, 10, 20)\n",
    "gamma_list= np.logspace(-4, -2, 20)\n",
    "recall = np.zeros((len(C_list), len(gamma_list)))\n",
    "\n",
    "\n",
    "for i in range(len(C_list)):\n",
    "     for j in range(len(gamma_list)):\n",
    "        svc= SVC(C=C_list[i], gamma=gamma_list[j], kernel='rbf')\n",
    "        svc.fit(X_train, y_train)\n",
    "        y_pred= svc.predict(X_val)\n",
    "        tn, fp, fn, tp = confusion_matrix(y_val, y_pred).ravel()\n",
    "        recall[i, j] = float(tp+tn) / (tp + fn + fp + tn)\n",
    "               \n",
    "\n",
    "index_max = np.unravel_index(np.argmax(recall), recall.shape)\n",
    "\n",
    "print('Max. recall:{}'.format(recall[index_max]))\n",
    "C_opt = C_list[index_max[0]]\n",
    "gamma_opt = gamma_list[index_max[1]]\n",
    "print('Optimal C: {}'.format(C_opt))\n",
    "print('Optimal gamma:{}'.format(gamma_opt))"
   ]
  },
  {
   "cell_type": "code",
   "execution_count": 8,
   "metadata": {},
   "outputs": [
    {
     "name": "stdout",
     "output_type": "stream",
     "text": [
      "[[0.4375 0.4375 0.4375 0.4375 0.4375 0.4375 0.4375 0.4375 0.4375 0.4375\n",
      "  0.4375 0.4375 0.4375 0.4375 0.4375 0.4375 0.4375 0.4375 0.4375 0.4375]\n",
      " [0.4375 0.4375 0.4375 0.4375 0.5    0.5    0.5    0.5    0.5625 0.5625\n",
      "  0.5625 0.5625 0.5625 0.625  0.625  0.625  0.625  0.5625 0.5625 0.625 ]\n",
      " [0.4375 0.4375 0.4375 0.4375 0.5    0.5    0.5625 0.5625 0.5625 0.5625\n",
      "  0.625  0.625  0.625  0.5625 0.5625 0.5625 0.5625 0.5    0.5    0.5   ]\n",
      " [0.5    0.5    0.5    0.5    0.5625 0.5625 0.5625 0.5625 0.625  0.625\n",
      "  0.625  0.5625 0.5625 0.5625 0.5    0.5    0.5    0.5    0.5    0.5   ]\n",
      " [0.5    0.5    0.5    0.5625 0.5625 0.5625 0.5625 0.625  0.625  0.625\n",
      "  0.5625 0.5625 0.5625 0.5    0.5625 0.5    0.5    0.5    0.5    0.5   ]\n",
      " [0.5    0.5    0.5625 0.5625 0.5625 0.5625 0.625  0.625  0.5625 0.5625\n",
      "  0.5625 0.5625 0.5625 0.5625 0.5625 0.5    0.5    0.5    0.5    0.5625]\n",
      " [0.5    0.5625 0.5625 0.5625 0.5625 0.625  0.625  0.5625 0.5625 0.5625\n",
      "  0.5625 0.5625 0.5625 0.5625 0.5    0.5    0.5    0.5    0.5625 0.625 ]\n",
      " [0.5    0.5625 0.5625 0.5625 0.5625 0.625  0.625  0.5625 0.5625 0.5625\n",
      "  0.5    0.5625 0.5625 0.5625 0.5    0.5    0.5    0.5625 0.5625 0.625 ]\n",
      " [0.5625 0.5625 0.5625 0.5625 0.625  0.625  0.5625 0.5625 0.5625 0.5\n",
      "  0.5625 0.5625 0.5625 0.5    0.5    0.5    0.5625 0.5625 0.625  0.625 ]\n",
      " [0.5625 0.5625 0.5625 0.5625 0.625  0.625  0.5625 0.5625 0.5625 0.5625\n",
      "  0.5625 0.5625 0.5625 0.5    0.5    0.5625 0.5625 0.5625 0.625  0.625 ]\n",
      " [0.5625 0.5625 0.5625 0.625  0.625  0.5625 0.5625 0.5625 0.5625 0.5625\n",
      "  0.5625 0.5625 0.5    0.5    0.5625 0.5625 0.5625 0.625  0.625  0.625 ]\n",
      " [0.5625 0.5625 0.5625 0.625  0.625  0.5625 0.5625 0.5625 0.5    0.5625\n",
      "  0.5625 0.5625 0.5    0.5    0.5625 0.5625 0.5625 0.625  0.625  0.625 ]\n",
      " [0.5625 0.5625 0.5625 0.625  0.625  0.5625 0.5625 0.5625 0.5625 0.5625\n",
      "  0.5625 0.5625 0.5    0.5625 0.5625 0.5625 0.5625 0.625  0.625  0.625 ]\n",
      " [0.5625 0.5625 0.625  0.625  0.5625 0.5625 0.5625 0.5625 0.5625 0.5625\n",
      "  0.5625 0.5    0.5    0.5625 0.5625 0.5625 0.5625 0.625  0.625  0.625 ]\n",
      " [0.5625 0.5625 0.625  0.625  0.5625 0.5625 0.5625 0.5    0.5625 0.5625\n",
      "  0.5625 0.5    0.5    0.5625 0.5625 0.5625 0.625  0.625  0.625  0.625 ]\n",
      " [0.5625 0.5625 0.625  0.625  0.5625 0.5625 0.5625 0.5625 0.5625 0.5625\n",
      "  0.5625 0.5    0.5    0.5625 0.5625 0.5625 0.625  0.625  0.625  0.625 ]\n",
      " [0.5625 0.625  0.625  0.5625 0.5625 0.5625 0.5    0.5625 0.5625 0.5625\n",
      "  0.5625 0.5    0.5625 0.5625 0.5625 0.5625 0.625  0.625  0.625  0.625 ]\n",
      " [0.5625 0.625  0.625  0.5625 0.5625 0.5625 0.5    0.5625 0.5625 0.5625\n",
      "  0.5    0.5    0.5625 0.5625 0.5625 0.5625 0.625  0.625  0.625  0.625 ]\n",
      " [0.5625 0.625  0.625  0.5625 0.5625 0.5625 0.5625 0.5625 0.5625 0.5625\n",
      "  0.5    0.5    0.5625 0.5625 0.5625 0.5625 0.625  0.625  0.625  0.625 ]\n",
      " [0.5625 0.625  0.625  0.5625 0.625  0.625  0.5625 0.5625 0.5625 0.5625\n",
      "  0.5    0.5    0.5625 0.5625 0.625  0.5625 0.625  0.625  0.625  0.625 ]]\n"
     ]
    }
   ],
   "source": [
    "print(recall)"
   ]
  },
  {
   "cell_type": "code",
   "execution_count": 9,
   "metadata": {},
   "outputs": [
    {
     "data": {
      "text/plain": [
       "array([[6, 4],\n",
       "       [4, 6]], dtype=int64)"
      ]
     },
     "execution_count": 9,
     "metadata": {},
     "output_type": "execute_result"
    }
   ],
   "source": [
    "svc= SVC(kernel='rbf', class_weight='balanced', C=C_opt, gamma=gamma_opt)\n",
    "svc.fit(X_train, y_train)\n",
    "y_pred = svc.predict(X_test)\n",
    "confusion_matrix(y_test, y_pred)"
   ]
  },
  {
   "cell_type": "code",
   "execution_count": 10,
   "metadata": {},
   "outputs": [
    {
     "name": "stdout",
     "output_type": "stream",
     "text": [
      "Recall mean: 0.68\n",
      "Recall standard deviation: 0.16\n"
     ]
    }
   ],
   "source": [
    "#Validation of model (recall)\n",
    "\n",
    "kf = KFold(n_splits=10, shuffle=True)\n",
    "scores = [] \n",
    "for train_idx, val_idx in kf.split(X):\n",
    "    X_train_k, y_train_k = X[train_idx], y[train_idx]\n",
    "    X_val_k, y_val_k = X[val_idx], y[val_idx]\n",
    "    svc= SVC(C=C_opt, gamma=gamma_opt, kernel='rbf', class_weight='balanced')\n",
    "    svc.fit(X_train_k, y_train_k)\n",
    "    y_pred_k= svc.predict(X_val_k)\n",
    "    cm= confusion_matrix(y_val_k, y_pred_k)\n",
    "    tn, fp, fn, tp = confusion_matrix(y_val_k, y_pred_k).ravel()\n",
    "    recall_v = float(tp+tn) / (tp + fn + fp + tn)\n",
    "    scores.append(recall_v)\n",
    "\n",
    "print('Recall mean: {}'.format(np.mean(scores))) \n",
    "print('Recall standard deviation: {}'.format(np.std(scores)))"
   ]
  },
  {
   "cell_type": "code",
   "execution_count": 11,
   "metadata": {},
   "outputs": [
    {
     "ename": "NameError",
     "evalue": "name 'signal' is not defined",
     "output_type": "error",
     "traceback": [
      "\u001b[1;31m---------------------------------------------------------------------------\u001b[0m",
      "\u001b[1;31mNameError\u001b[0m                                 Traceback (most recent call last)",
      "Cell \u001b[1;32mIn[11], line 7\u001b[0m\n\u001b[0;32m      1\u001b[0m smile \u001b[38;5;241m=\u001b[39m opensmile\u001b[38;5;241m.\u001b[39mSmile(\n\u001b[0;32m      2\u001b[0m     feature_set\u001b[38;5;241m=\u001b[39mopensmile\u001b[38;5;241m.\u001b[39mFeatureSet\u001b[38;5;241m.\u001b[39meGeMAPSv02,\n\u001b[0;32m      3\u001b[0m     feature_level\u001b[38;5;241m=\u001b[39mopensmile\u001b[38;5;241m.\u001b[39mFeatureLevel\u001b[38;5;241m.\u001b[39mLowLevelDescriptors,\n\u001b[0;32m      4\u001b[0m )\n\u001b[0;32m      6\u001b[0m smile\u001b[38;5;241m.\u001b[39mprocess_signal(\n\u001b[1;32m----> 7\u001b[0m     \u001b[43msignal\u001b[49m,\n\u001b[0;32m      8\u001b[0m     sampling_rate\n\u001b[0;32m      9\u001b[0m )\n\u001b[0;32m     11\u001b[0m data\u001b[38;5;241m.\u001b[39mloc[:,[\u001b[38;5;124m'\u001b[39m\u001b[38;5;124mF0semitoneFrom27.5Hz_sma3nz_amean\u001b[39m\u001b[38;5;124m'\u001b[39m,\n\u001b[0;32m     12\u001b[0m  \u001b[38;5;124m'\u001b[39m\u001b[38;5;124mF1frequency_sma3nz_amean\u001b[39m\u001b[38;5;124m'\u001b[39m,\n\u001b[0;32m     13\u001b[0m \u001b[38;5;124m'\u001b[39m\u001b[38;5;124mF2frequency_sma3nz_amean\u001b[39m\u001b[38;5;124m'\u001b[39m,\n\u001b[1;32m   (...)\u001b[0m\n\u001b[0;32m     20\u001b[0m \u001b[38;5;124m'\u001b[39m\u001b[38;5;124mMeanVoicedSegmentLengthSec\u001b[39m\u001b[38;5;124m'\u001b[39m, \n\u001b[0;32m     21\u001b[0m \u001b[38;5;124m'\u001b[39m\u001b[38;5;124mMeanUnvoicedSegmentLength\u001b[39m\u001b[38;5;124m'\u001b[39m]]\n",
      "\u001b[1;31mNameError\u001b[0m: name 'signal' is not defined"
     ]
    }
   ],
   "source": [
    "smile = opensmile.Smile(\n",
    "    feature_set=opensmile.FeatureSet.eGeMAPSv02,\n",
    "    feature_level=opensmile.FeatureLevel.LowLevelDescriptors,\n",
    ")\n",
    "\n",
    "smile.process_signal(\n",
    "    signal,\n",
    "    sampling_rate\n",
    ")\n",
    "\n",
    "data.loc[:,['F0semitoneFrom27.5Hz_sma3nz_amean',\n",
    " 'F1frequency_sma3nz_amean',\n",
    "'F2frequency_sma3nz_amean',\n",
    "'F3frequency_sma3nz_amean',\n",
    "'loudness_sma3_amean',\n",
    "'mfcc1_sma3_amean',\n",
    "'jitterLocal_sma3nz_amean',\n",
    "'shimmerLocaldB_sma3nz_amean',\n",
    "'hammarbergIndexV_sma3nz_amean',\n",
    "'MeanVoicedSegmentLengthSec', \n",
    "'MeanUnvoicedSegmentLength']]\n"
   ]
  },
  {
   "cell_type": "code",
   "execution_count": null,
   "metadata": {},
   "outputs": [
    {
     "name": "stdout",
     "output_type": "stream",
     "text": [
      "Index(['Loudness_sma3', 'alphaRatio_sma3', 'hammarbergIndex_sma3',\n",
      "       'slope0-500_sma3', 'slope500-1500_sma3', 'spectralFlux_sma3',\n",
      "       'mfcc1_sma3', 'mfcc2_sma3', 'mfcc3_sma3', 'mfcc4_sma3',\n",
      "       'F0semitoneFrom27.5Hz_sma3nz', 'jitterLocal_sma3nz',\n",
      "       'shimmerLocaldB_sma3nz', 'HNRdBACF_sma3nz', 'logRelF0-H1-H2_sma3nz',\n",
      "       'logRelF0-H1-A3_sma3nz', 'F1frequency_sma3nz', 'F1bandwidth_sma3nz',\n",
      "       'F1amplitudeLogRelF0_sma3nz', 'F2frequency_sma3nz',\n",
      "       'F2bandwidth_sma3nz', 'F2amplitudeLogRelF0_sma3nz',\n",
      "       'F3frequency_sma3nz', 'F3bandwidth_sma3nz',\n",
      "       'F3amplitudeLogRelF0_sma3nz'],\n",
      "      dtype='object')\n"
     ]
    }
   ],
   "source": [
    "print(data.columns)"
   ]
  },
  {
   "cell_type": "code",
   "execution_count": null,
   "metadata": {},
   "outputs": [
    {
     "ename": "KeyError",
     "evalue": "'F0semitoneFrom27.5Hz_sma3nz_amean'",
     "output_type": "error",
     "traceback": [
      "\u001b[1;31m---------------------------------------------------------------------------\u001b[0m",
      "\u001b[1;31mKeyError\u001b[0m                                  Traceback (most recent call last)",
      "File \u001b[1;32md:\\CCiL\\TFM\\model\\env\\lib\\site-packages\\pandas\\core\\indexes\\base.py:3802\u001b[0m, in \u001b[0;36mIndex.get_loc\u001b[1;34m(self, key, method, tolerance)\u001b[0m\n\u001b[0;32m   3801\u001b[0m \u001b[38;5;28;01mtry\u001b[39;00m:\n\u001b[1;32m-> 3802\u001b[0m     \u001b[38;5;28;01mreturn\u001b[39;00m \u001b[38;5;28;43mself\u001b[39;49m\u001b[38;5;241;43m.\u001b[39;49m\u001b[43m_engine\u001b[49m\u001b[38;5;241;43m.\u001b[39;49m\u001b[43mget_loc\u001b[49m\u001b[43m(\u001b[49m\u001b[43mcasted_key\u001b[49m\u001b[43m)\u001b[49m\n\u001b[0;32m   3803\u001b[0m \u001b[38;5;28;01mexcept\u001b[39;00m \u001b[38;5;167;01mKeyError\u001b[39;00m \u001b[38;5;28;01mas\u001b[39;00m err:\n",
      "File \u001b[1;32md:\\CCiL\\TFM\\model\\env\\lib\\site-packages\\pandas\\_libs\\index.pyx:138\u001b[0m, in \u001b[0;36mpandas._libs.index.IndexEngine.get_loc\u001b[1;34m()\u001b[0m\n",
      "File \u001b[1;32md:\\CCiL\\TFM\\model\\env\\lib\\site-packages\\pandas\\_libs\\index.pyx:165\u001b[0m, in \u001b[0;36mpandas._libs.index.IndexEngine.get_loc\u001b[1;34m()\u001b[0m\n",
      "File \u001b[1;32mpandas\\_libs\\hashtable_class_helper.pxi:5745\u001b[0m, in \u001b[0;36mpandas._libs.hashtable.PyObjectHashTable.get_item\u001b[1;34m()\u001b[0m\n",
      "File \u001b[1;32mpandas\\_libs\\hashtable_class_helper.pxi:5753\u001b[0m, in \u001b[0;36mpandas._libs.hashtable.PyObjectHashTable.get_item\u001b[1;34m()\u001b[0m\n",
      "\u001b[1;31mKeyError\u001b[0m: 'F0semitoneFrom27.5Hz_sma3nz_amean'",
      "\nThe above exception was the direct cause of the following exception:\n",
      "\u001b[1;31mKeyError\u001b[0m                                  Traceback (most recent call last)",
      "Cell \u001b[1;32mIn[61], line 1\u001b[0m\n\u001b[1;32m----> 1\u001b[0m X\u001b[38;5;241m=\u001b[39m \u001b[43mdata\u001b[49m\u001b[43m[\u001b[49m\u001b[38;5;124;43m'\u001b[39;49m\u001b[38;5;124;43mF0semitoneFrom27.5Hz_sma3nz_amean\u001b[39;49m\u001b[38;5;124;43m'\u001b[39;49m\u001b[43m]\u001b[49m\u001b[38;5;241m.\u001b[39mvalues\n\u001b[0;32m      2\u001b[0m \u001b[38;5;28mprint\u001b[39m(X)\n\u001b[0;32m      3\u001b[0m \u001b[38;5;66;03m# Creating histogram\u001b[39;00m\n\u001b[0;32m      4\u001b[0m \u001b[38;5;66;03m#plt.hist(X, bins=30, color='skyblue', edgecolor='black')\u001b[39;00m\n\u001b[0;32m      5\u001b[0m \n\u001b[1;32m   (...)\u001b[0m\n\u001b[0;32m     11\u001b[0m \u001b[38;5;66;03m# Displaying the plot\u001b[39;00m\n\u001b[0;32m     12\u001b[0m \u001b[38;5;66;03m#plt.show()\u001b[39;00m\n",
      "File \u001b[1;32md:\\CCiL\\TFM\\model\\env\\lib\\site-packages\\pandas\\core\\frame.py:3807\u001b[0m, in \u001b[0;36mDataFrame.__getitem__\u001b[1;34m(self, key)\u001b[0m\n\u001b[0;32m   3805\u001b[0m \u001b[38;5;28;01mif\u001b[39;00m \u001b[38;5;28mself\u001b[39m\u001b[38;5;241m.\u001b[39mcolumns\u001b[38;5;241m.\u001b[39mnlevels \u001b[38;5;241m>\u001b[39m \u001b[38;5;241m1\u001b[39m:\n\u001b[0;32m   3806\u001b[0m     \u001b[38;5;28;01mreturn\u001b[39;00m \u001b[38;5;28mself\u001b[39m\u001b[38;5;241m.\u001b[39m_getitem_multilevel(key)\n\u001b[1;32m-> 3807\u001b[0m indexer \u001b[38;5;241m=\u001b[39m \u001b[38;5;28;43mself\u001b[39;49m\u001b[38;5;241;43m.\u001b[39;49m\u001b[43mcolumns\u001b[49m\u001b[38;5;241;43m.\u001b[39;49m\u001b[43mget_loc\u001b[49m\u001b[43m(\u001b[49m\u001b[43mkey\u001b[49m\u001b[43m)\u001b[49m\n\u001b[0;32m   3808\u001b[0m \u001b[38;5;28;01mif\u001b[39;00m is_integer(indexer):\n\u001b[0;32m   3809\u001b[0m     indexer \u001b[38;5;241m=\u001b[39m [indexer]\n",
      "File \u001b[1;32md:\\CCiL\\TFM\\model\\env\\lib\\site-packages\\pandas\\core\\indexes\\base.py:3804\u001b[0m, in \u001b[0;36mIndex.get_loc\u001b[1;34m(self, key, method, tolerance)\u001b[0m\n\u001b[0;32m   3802\u001b[0m     \u001b[38;5;28;01mreturn\u001b[39;00m \u001b[38;5;28mself\u001b[39m\u001b[38;5;241m.\u001b[39m_engine\u001b[38;5;241m.\u001b[39mget_loc(casted_key)\n\u001b[0;32m   3803\u001b[0m \u001b[38;5;28;01mexcept\u001b[39;00m \u001b[38;5;167;01mKeyError\u001b[39;00m \u001b[38;5;28;01mas\u001b[39;00m err:\n\u001b[1;32m-> 3804\u001b[0m     \u001b[38;5;28;01mraise\u001b[39;00m \u001b[38;5;167;01mKeyError\u001b[39;00m(key) \u001b[38;5;28;01mfrom\u001b[39;00m \u001b[38;5;21;01merr\u001b[39;00m\n\u001b[0;32m   3805\u001b[0m \u001b[38;5;28;01mexcept\u001b[39;00m \u001b[38;5;167;01mTypeError\u001b[39;00m:\n\u001b[0;32m   3806\u001b[0m     \u001b[38;5;66;03m# If we have a listlike key, _check_indexing_error will raise\u001b[39;00m\n\u001b[0;32m   3807\u001b[0m     \u001b[38;5;66;03m#  InvalidIndexError. Otherwise we fall through and re-raise\u001b[39;00m\n\u001b[0;32m   3808\u001b[0m     \u001b[38;5;66;03m#  the TypeError.\u001b[39;00m\n\u001b[0;32m   3809\u001b[0m     \u001b[38;5;28mself\u001b[39m\u001b[38;5;241m.\u001b[39m_check_indexing_error(key)\n",
      "\u001b[1;31mKeyError\u001b[0m: 'F0semitoneFrom27.5Hz_sma3nz_amean'"
     ]
    }
   ],
   "source": [
    "X= data['F0semitoneFrom27.5Hz_sma3nz_amean'].values\n",
    "print(X)\n",
    "# Creating histogram\n",
    "#plt.hist(X, bins=30, color='skyblue', edgecolor='black')\n",
    "\n",
    "# Adding labels and title\n",
    "#plt.xlabel('Value')\n",
    "#plt.ylabel('Frequency')\n",
    "#plt.title('Histogram')\n",
    "\n",
    "# Displaying the plot\n",
    "#plt.show()"
   ]
  }
 ],
 "metadata": {
  "kernelspec": {
   "display_name": "Python 3",
   "language": "python",
   "name": "python3"
  },
  "language_info": {
   "codemirror_mode": {
    "name": "ipython",
    "version": 3
   },
   "file_extension": ".py",
   "mimetype": "text/x-python",
   "name": "python",
   "nbconvert_exporter": "python",
   "pygments_lexer": "ipython3",
   "version": "3.9.0"
  }
 },
 "nbformat": 4,
 "nbformat_minor": 2
}
