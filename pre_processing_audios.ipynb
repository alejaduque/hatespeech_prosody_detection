{
 "cells": [
  {
   "cell_type": "code",
   "execution_count": 1,
   "metadata": {},
   "outputs": [],
   "source": [
    "import sys\n",
    "import pandas #getting dataframes\n",
    "import os #paths\n",
    "\n",
    "#Convert video to .mp3\n",
    "import moviepy \n",
    "from moviepy.editor import * \n",
    "\n",
    "#Pre-processing of audios\n",
    "import pydub \n",
    "from pydub import AudioSegment #for segmenting audios \n",
    "\n",
    "import spleeter  #for separating voice from music/noisy background\n",
    "from IPython.display import Audio\n",
    "from spleeter.separator import AudioAdapter\n",
    "from spleeter.separator import Separator\n",
    "\n",
    "#Convert audio to video \n",
    "def extract_audio(input_video, output_audio):\n",
    "    video = VideoFileClip(input_video)\n",
    "    audio = video.audio\n",
    "    audio.write_audiofile(output_audio)\n",
    "\n",
    "#Gets names of files and converts each audio to .mp3\n",
    "def files_to_audio(list_with_filenames):\n",
    "    for i in list_with_filenames:\n",
    "        input= path= \"data/spanish_dataset/\" + i \n",
    "        split_n= i.split(\".\")\n",
    "        path= \"data/raw_audio/\"\n",
    "        output_name= path + split_n[0] +\"_raw.mp3\"\n",
    "        extract_audio(input, output_name)\n",
    "\n",
    "#Segments audios to 2 min. \n",
    "\n",
    "def segment_audio(min_segment, list_with_files):\n",
    "    files_path = \"data/raw_audio/\"\n",
    "    output_name = 'data/audio_cuts/'\n",
    "    \n",
    "    for i in list_with_files:\n",
    "\n",
    "        file_name= i.split('.')[0]\n",
    "\n",
    "        startMin = 0\n",
    "        startSec = 00\n",
    "\n",
    "        endMin = min_segment\n",
    "        endSec = 00\n",
    "\n",
    "       # Time to miliseconds\n",
    "        startTime = startMin*60*1000+startSec*1000\n",
    "        endTime = endMin*60*1000+endSec*1000\n",
    "\n",
    "       # Opening file and extracting segment\n",
    "        song = AudioSegment.from_mp3( files_path+file_name+'.mp3' )\n",
    "        extract = song[startTime:endTime]\n",
    "\n",
    "       # Saving\n",
    "        extract.export( output_name + file_name+'_cut.mp3', format=\"mp3\")\n"
   ]
  },
  {
   "cell_type": "code",
   "execution_count": null,
   "metadata": {},
   "outputs": [],
   "source": [
    "#Taking all audios and converting to .mp3\n",
    "path= \"data/spanish_dataset\"\n",
    "dir_list = os.listdir(path)\n",
    "files_to_audio(dir_list)"
   ]
  },
  {
   "cell_type": "code",
   "execution_count": 2,
   "metadata": {},
   "outputs": [],
   "source": [
    "#Segments audios in two minutes\n",
    "path= \"data/raw_audio\"\n",
    "dir_list= os.listdir(path)\n",
    "segment_audio(2, dir_list)"
   ]
  },
  {
   "cell_type": "code",
   "execution_count": 20,
   "metadata": {},
   "outputs": [
    {
     "ename": "SpleeterError",
     "evalue": "ffmpeg binary not found",
     "output_type": "error",
     "traceback": [
      "\u001b[1;31m---------------------------------------------------------------------------\u001b[0m",
      "\u001b[1;31mSpleeterError\u001b[0m                             Traceback (most recent call last)",
      "Cell \u001b[1;32mIn[20], line 10\u001b[0m\n\u001b[0;32m      7\u001b[0m \u001b[38;5;66;03m# Using embedded configuration.\u001b[39;00m\n\u001b[0;32m      8\u001b[0m separator \u001b[38;5;241m=\u001b[39m Separator(\u001b[38;5;124m'\u001b[39m\u001b[38;5;124mspleeter:2stems\u001b[39m\u001b[38;5;124m'\u001b[39m)\n\u001b[1;32m---> 10\u001b[0m audio_loader \u001b[38;5;241m=\u001b[39m \u001b[43mAudioAdapter\u001b[49m\u001b[38;5;241;43m.\u001b[39;49m\u001b[43mdefault\u001b[49m\u001b[43m(\u001b[49m\u001b[43m)\u001b[49m\n\u001b[0;32m     11\u001b[0m sample_rate \u001b[38;5;241m=\u001b[39m \u001b[38;5;241m44100\u001b[39m\n\u001b[0;32m     12\u001b[0m waveform, _ \u001b[38;5;241m=\u001b[39m audio_loader\u001b[38;5;241m.\u001b[39mload(audio_file, sample_rate\u001b[38;5;241m=\u001b[39msample_rate)\n",
      "File \u001b[1;32md:\\CCiL\\TFM\\model\\env\\lib\\site-packages\\spleeter\\audio\\adapter.py:173\u001b[0m, in \u001b[0;36mAudioAdapter.default\u001b[1;34m(cls)\u001b[0m\n\u001b[0;32m    170\u001b[0m \u001b[38;5;28;01mif\u001b[39;00m \u001b[38;5;28mcls\u001b[39m\u001b[38;5;241m.\u001b[39m_DEFAULT \u001b[38;5;129;01mis\u001b[39;00m \u001b[38;5;28;01mNone\u001b[39;00m:\n\u001b[0;32m    171\u001b[0m     \u001b[38;5;28;01mfrom\u001b[39;00m \u001b[38;5;21;01m.\u001b[39;00m\u001b[38;5;21;01mffmpeg\u001b[39;00m \u001b[38;5;28;01mimport\u001b[39;00m FFMPEGProcessAudioAdapter\n\u001b[1;32m--> 173\u001b[0m     \u001b[38;5;28mcls\u001b[39m\u001b[38;5;241m.\u001b[39m_DEFAULT \u001b[38;5;241m=\u001b[39m \u001b[43mFFMPEGProcessAudioAdapter\u001b[49m\u001b[43m(\u001b[49m\u001b[43m)\u001b[49m\n\u001b[0;32m    174\u001b[0m \u001b[38;5;28;01mreturn\u001b[39;00m \u001b[38;5;28mcls\u001b[39m\u001b[38;5;241m.\u001b[39m_DEFAULT\n",
      "File \u001b[1;32md:\\CCiL\\TFM\\model\\env\\lib\\site-packages\\spleeter\\audio\\ffmpeg.py:62\u001b[0m, in \u001b[0;36mFFMPEGProcessAudioAdapter.__init__\u001b[1;34m(_)\u001b[0m\n\u001b[0;32m     60\u001b[0m \u001b[38;5;28;01mfor\u001b[39;00m binary \u001b[38;5;129;01min\u001b[39;00m (\u001b[38;5;124m\"\u001b[39m\u001b[38;5;124mffmpeg\u001b[39m\u001b[38;5;124m\"\u001b[39m, \u001b[38;5;124m\"\u001b[39m\u001b[38;5;124mffprobe\u001b[39m\u001b[38;5;124m\"\u001b[39m):\n\u001b[0;32m     61\u001b[0m     \u001b[38;5;28;01mif\u001b[39;00m shutil\u001b[38;5;241m.\u001b[39mwhich(binary) \u001b[38;5;129;01mis\u001b[39;00m \u001b[38;5;28;01mNone\u001b[39;00m:\n\u001b[1;32m---> 62\u001b[0m         \u001b[38;5;28;01mraise\u001b[39;00m SpleeterError(\u001b[38;5;124m\"\u001b[39m\u001b[38;5;132;01m{}\u001b[39;00m\u001b[38;5;124m binary not found\u001b[39m\u001b[38;5;124m\"\u001b[39m\u001b[38;5;241m.\u001b[39mformat(binary))\n",
      "\u001b[1;31mSpleeterError\u001b[0m: ffmpeg binary not found"
     ]
    }
   ],
   "source": [
    "# Load the audio file\n",
    "audio_file = 'raw_test.mp3'\n",
    "\n",
    "# Using embedded configuration.\n",
    "separator = Separator('spleeter:2stems')\n",
    "\n",
    "audio_loader = AudioAdapter.default()\n",
    "sample_rate = 44100\n",
    "waveform, _ = audio_loader.load(audio_file, sample_rate=sample_rate)\n",
    "\n",
    "# Perform the separation :\n",
    "prediction = separator.separate(waveform)"
   ]
  }
 ],
 "metadata": {
  "kernelspec": {
   "display_name": "Python 3",
   "language": "python",
   "name": "python3"
  },
  "language_info": {
   "codemirror_mode": {
    "name": "ipython",
    "version": 3
   },
   "file_extension": ".py",
   "mimetype": "text/x-python",
   "name": "python",
   "nbconvert_exporter": "python",
   "pygments_lexer": "ipython3",
   "version": "3.9.0"
  }
 },
 "nbformat": 4,
 "nbformat_minor": 2
}
