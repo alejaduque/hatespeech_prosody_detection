{
 "cells": [
  {
   "cell_type": "code",
   "execution_count": 8,
   "metadata": {},
   "outputs": [],
   "source": [
    "import sys\n",
    "import pandas #getting dataframes\n",
    "import os #paths\n",
    "\n",
    "#Convert video to .mp3\n",
    "import moviepy \n",
    "from moviepy.editor import * \n",
    "\n",
    "#Pre-processing of audios\n",
    "import pydub \n",
    "from pydub import AudioSegment #for segmenting audios \n",
    "\n",
    "import spleeter  #for separating voice from music/noisy background\n",
    "from IPython.display import Audio\n",
    "from spleeter.separator import AudioAdapter\n",
    "from spleeter.separator import Separator\n",
    "separator = Separator('spleeter:2stems') # Using embedded configuration.\n",
    "\n",
    "#Convert audio to video \n",
    "def extract_audio(input_video, output_audio):\n",
    "    video = VideoFileClip(input_video)\n",
    "    audio = video.audio\n",
    "    audio.write_audiofile(output_audio)\n",
    "\n",
    "#Gets names of files and converts each audio to .mp3\n",
    "def files_to_audio(list_with_filenames):\n",
    "    for i in list_with_filenames:\n",
    "        input= path= \"data/spanish_dataset/\" + i \n",
    "        split_n= i.split(\".\")\n",
    "        path= \"data/raw_audio/\"\n",
    "        output_name= path + split_n[0] +\"_raw.mp3\"\n",
    "        extract_audio(input, output_name)\n",
    "\n",
    "#Segments audios to 2 min. \n",
    "\n",
    "def segment_audio(min_segment, list_with_files):\n",
    "    files_path = \"data/raw_audio/\"\n",
    "    output_name = 'data/audio_cuts/'\n",
    "    \n",
    "    for i in list_with_files:\n",
    "\n",
    "        file_name= i.split('.')[0]\n",
    "\n",
    "        startMin = 0\n",
    "        startSec = 00\n",
    "\n",
    "        endMin = min_segment\n",
    "        endSec = 00\n",
    "\n",
    "       # Time to miliseconds\n",
    "        startTime = startMin*60*1000+startSec*1000\n",
    "        endTime = endMin*60*1000+endSec*1000\n",
    "\n",
    "       # Opening file and extracting segment\n",
    "        song = AudioSegment.from_mp3( files_path+file_name+'.mp3' )\n",
    "        extract = song[startTime:endTime]\n",
    "\n",
    "       # Saving\n",
    "        extract.export( output_name + file_name+'_cut.mp3', format=\"mp3\")\n",
    "\n",
    "def separator_voice_noise(list_with_files, separator):\n",
    "    for files in list_with_files:\n",
    "      # Load the audio file\n",
    "      audio_file = 'data/audio_cuts/' + files\n",
    "      separator.separate_to_file(audio_file, 'data/clean_audio')"
   ]
  },
  {
   "cell_type": "code",
   "execution_count": null,
   "metadata": {},
   "outputs": [],
   "source": [
    "#Taking all audios and converting to .mp3\n",
    "path= \"data/spanish_dataset\"\n",
    "dir_list = os.listdir(path)\n",
    "files_to_audio(dir_list)"
   ]
  },
  {
   "cell_type": "code",
   "execution_count": 2,
   "metadata": {},
   "outputs": [],
   "source": [
    "#Segments audios in two minutes\n",
    "path= \"data/raw_audio\"\n",
    "dir_list= os.listdir(path)\n",
    "segment_audio(2, dir_list)"
   ]
  },
  {
   "cell_type": "code",
   "execution_count": null,
   "metadata": {},
   "outputs": [],
   "source": [
    "path= \"data/audio_cuts\"\n",
    "dir_list= os.listdir(path)\n",
    "separator_voice_noise(dir_list, separator)"
   ]
  }
 ],
 "metadata": {
  "kernelspec": {
   "display_name": "Python 3",
   "language": "python",
   "name": "python3"
  },
  "language_info": {
   "codemirror_mode": {
    "name": "ipython",
    "version": 3
   },
   "file_extension": ".py",
   "mimetype": "text/x-python",
   "name": "python",
   "nbconvert_exporter": "python",
   "pygments_lexer": "ipython3",
   "version": "3.9.0"
  }
 },
 "nbformat": 4,
 "nbformat_minor": 2
}
