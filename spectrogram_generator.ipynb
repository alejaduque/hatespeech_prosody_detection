{
 "cells": [
  {
   "cell_type": "code",
   "execution_count": 1,
   "metadata": {},
   "outputs": [],
   "source": [
    "import numpy as np\n",
    "import scipy\n",
    "from scipy.io.wavfile import read as read_wav\n",
    "from matplotlib import pyplot as plt\n",
    "import tqdm.notebook as tqdm\n",
    "import os\n",
    "\n",
    "import audb\n",
    "import audiofile\n",
    "from scipy import signal\n",
    "from scipy.fft import fftshift\n",
    "import PIL\n",
    "from PIL import Image\n",
    "\n"
   ]
  },
  {
   "cell_type": "code",
   "execution_count": 2,
   "metadata": {},
   "outputs": [],
   "source": [
    "def get_max_shape(path, list_with_files):\n",
    "    all_shapes =[]\n",
    "    for f in list_with_files:\n",
    "        file= path + f\n",
    "        sampling_rate, data = read_wav(file)\n",
    "        all_shapes.append(data.shape)\n",
    "    max_value= max(matrix for matrix in all_shapes)\n",
    "    return max_value\n",
    "\n",
    "def get_spectrogram(name_of_file, max_value):\n",
    "    path= \"full_data/audios/\" #modify path as needed\n",
    "    file= path + name_of_file\n",
    "    sampling_rate, data = read_wav(file) #gets sampling rate and dimensions of data\n",
    "    \n",
    "    #Zero padding \n",
    "    pad_width = ((0, max_value[0] - data.shape[0]), (0, 0))\n",
    "    padded_matrix = np.pad(data, pad_width, mode='constant', constant_values=0)\n",
    "\n",
    "    # Gets spectrogram\n",
    "    f, t, Spec_1 = signal.spectrogram(padded_matrix[:, 0], fs=sampling_rate, window='boxcar', nperseg=2**12, mode='psd') #channel 1\n",
    "    Spec_dB_1 = 10*np.log10(Spec_1+1e-7)\n",
    "    f, t, Spec_2 = signal.spectrogram(padded_matrix[:, 1], fs=sampling_rate, window='boxcar', nperseg=2**12, mode='psd') #channel 2 \n",
    "    Spec_dB_2 = 10*np.log10(Spec_2+1e-7)\n",
    "    z = np.zeros_like(Spec_dB_2) #third dimension in B\n",
    "    final = np.stack([Spec_dB_1, Spec_dB_2, z], axis=2) #3d array with spectrogram\n",
    "\n",
    "    return final\n",
    "\n",
    "def spectrogram_to_image(name_of_file, spectrogram_data):\n",
    "    path= \"data/spectrograms/\" #modify path as needed \n",
    "    file=  os.path.splitext(name_of_file)[0]\n",
    "    spec_data= spectrogram_data\n",
    "\n",
    "    # Normalize the array values to be within the range [0, 255]. \n",
    "    normalized_data = ((spectrogram_data - spectrogram_data.min()) / (spectrogram_data.max() - spectrogram_data.min()) * 255).astype(np.uint8)\n",
    "    # Convert the normalized array to an image\n",
    "    image = Image.fromarray(normalized_data)\n",
    "    # Save the image\n",
    "    image_f_name= path + file + '.png'\n",
    "    image.save(image_f_name)\n"
   ]
  },
  {
   "cell_type": "code",
   "execution_count": 3,
   "metadata": {},
   "outputs": [],
   "source": [
    "#Paths of directiories \n",
    "path_dir= 'full_data/audios/'\n",
    "files_dir= os.listdir(path_dir)"
   ]
  },
  {
   "cell_type": "code",
   "execution_count": 4,
   "metadata": {},
   "outputs": [],
   "source": [
    "#Getting max_shape we will need for zero padding audios \n",
    "\n",
    "max_shape= get_max_shape(path_dir, files_dir)\n"
   ]
  },
  {
   "cell_type": "code",
   "execution_count": 5,
   "metadata": {},
   "outputs": [],
   "source": [
    "#Getting spectrograms and images\n",
    "\n",
    "for name in files_dir:\n",
    "    spec= get_spectrogram(name, max_shape)\n",
    "    spectrogram_to_image(name, spec)\n",
    "\n"
   ]
  }
 ],
 "metadata": {
  "kernelspec": {
   "display_name": "env",
   "language": "python",
   "name": "python3"
  },
  "language_info": {
   "codemirror_mode": {
    "name": "ipython",
    "version": 3
   },
   "file_extension": ".py",
   "mimetype": "text/x-python",
   "name": "python",
   "nbconvert_exporter": "python",
   "pygments_lexer": "ipython3",
   "version": "3.9.0"
  }
 },
 "nbformat": 4,
 "nbformat_minor": 2
}
